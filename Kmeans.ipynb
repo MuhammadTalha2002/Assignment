{
 "cells": [
  {
   "cell_type": "markdown",
   "id": "3cfba763",
   "metadata": {},
   "source": [
    "# K-means clustering"
   ]
  },
  {
   "cell_type": "code",
   "execution_count": 92,
   "id": "46a111f9",
   "metadata": {},
   "outputs": [],
   "source": [
    "import pandas as pd #Importing data from the file\n",
    "import numpy as np #to perform large mathematical operations on arrays/lists/matrices etc\n",
    "import random as rd #to pick a random number in the iterations that come after the first iteration\n",
    "import matplotlib.pyplot as plt #Basically or should i  say more oftenly used to visualize data\n",
    "import math as sqrt #to perform mathematical operation on the data like we are using it to get the sqaure root here"
   ]
  },
  {
   "cell_type": "code",
   "execution_count": 93,
   "id": "21ce1a38",
   "metadata": {},
   "outputs": [],
   "source": [
    "using=pd.read_csv('kmeans.csv') #importing in the variable \"using\" "
   ]
  },
  {
   "cell_type": "code",
   "execution_count": 94,
   "id": "d510e37d",
   "metadata": {},
   "outputs": [
    {
     "data": {
      "text/html": [
       "<div>\n",
       "<style scoped>\n",
       "    .dataframe tbody tr th:only-of-type {\n",
       "        vertical-align: middle;\n",
       "    }\n",
       "\n",
       "    .dataframe tbody tr th {\n",
       "        vertical-align: top;\n",
       "    }\n",
       "\n",
       "    .dataframe thead th {\n",
       "        text-align: right;\n",
       "    }\n",
       "</style>\n",
       "<table border=\"1\" class=\"dataframe\">\n",
       "  <thead>\n",
       "    <tr style=\"text-align: right;\">\n",
       "      <th></th>\n",
       "      <th>A</th>\n",
       "      <th>B</th>\n",
       "    </tr>\n",
       "  </thead>\n",
       "  <tbody>\n",
       "    <tr>\n",
       "      <th>0</th>\n",
       "      <td>205</td>\n",
       "      <td>600</td>\n",
       "    </tr>\n",
       "    <tr>\n",
       "      <th>1</th>\n",
       "      <td>306</td>\n",
       "      <td>40</td>\n",
       "    </tr>\n",
       "    <tr>\n",
       "      <th>2</th>\n",
       "      <td>10</td>\n",
       "      <td>150</td>\n",
       "    </tr>\n",
       "    <tr>\n",
       "      <th>3</th>\n",
       "      <td>405</td>\n",
       "      <td>490</td>\n",
       "    </tr>\n",
       "    <tr>\n",
       "      <th>4</th>\n",
       "      <td>809</td>\n",
       "      <td>930</td>\n",
       "    </tr>\n",
       "    <tr>\n",
       "      <th>5</th>\n",
       "      <td>299</td>\n",
       "      <td>690</td>\n",
       "    </tr>\n",
       "    <tr>\n",
       "      <th>6</th>\n",
       "      <td>589</td>\n",
       "      <td>90</td>\n",
       "    </tr>\n",
       "    <tr>\n",
       "      <th>7</th>\n",
       "      <td>969</td>\n",
       "      <td>630</td>\n",
       "    </tr>\n",
       "    <tr>\n",
       "      <th>8</th>\n",
       "      <td>407</td>\n",
       "      <td>510</td>\n",
       "    </tr>\n",
       "    <tr>\n",
       "      <th>9</th>\n",
       "      <td>538</td>\n",
       "      <td>620</td>\n",
       "    </tr>\n",
       "    <tr>\n",
       "      <th>10</th>\n",
       "      <td>385</td>\n",
       "      <td>390</td>\n",
       "    </tr>\n",
       "    <tr>\n",
       "      <th>11</th>\n",
       "      <td>16</td>\n",
       "      <td>20</td>\n",
       "    </tr>\n",
       "    <tr>\n",
       "      <th>12</th>\n",
       "      <td>757</td>\n",
       "      <td>101</td>\n",
       "    </tr>\n",
       "    <tr>\n",
       "      <th>13</th>\n",
       "      <td>171</td>\n",
       "      <td>705</td>\n",
       "    </tr>\n",
       "    <tr>\n",
       "      <th>14</th>\n",
       "      <td>391</td>\n",
       "      <td>907</td>\n",
       "    </tr>\n",
       "  </tbody>\n",
       "</table>\n",
       "</div>"
      ],
      "text/plain": [
       "      A    B\n",
       "0   205  600\n",
       "1   306   40\n",
       "2    10  150\n",
       "3   405  490\n",
       "4   809  930\n",
       "5   299  690\n",
       "6   589   90\n",
       "7   969  630\n",
       "8   407  510\n",
       "9   538  620\n",
       "10  385  390\n",
       "11   16   20\n",
       "12  757  101\n",
       "13  171  705\n",
       "14  391  907"
      ]
     },
     "execution_count": 94,
     "metadata": {},
     "output_type": "execute_result"
    }
   ],
   "source": [
    "using #displaying data of the file"
   ]
  },
  {
   "cell_type": "code",
   "execution_count": null,
   "id": "ee0b306e",
   "metadata": {},
   "outputs": [],
   "source": []
  },
  {
   "cell_type": "code",
   "execution_count": 95,
   "id": "8b41cba6",
   "metadata": {},
   "outputs": [
    {
     "data": {
      "image/png": "[encoded data removed]",
      "text/plain": [
       "<Figure size 432x288 with 1 Axes>"
      ]
     },
     "metadata": {
      "needs_background": "light"
     },
     "output_type": "display_data"
    }
   ],
   "source": [
    "x=using[[\"A\",\"B\"]]\n",
    "plt.scatter(x[\"A\"],x[\"B\"])\n",
    "#plt.xlabel(\"length\")\n",
    "#plt.ylabel(\"m\")\n",
    "plt.title(\"Data to be clustered\")\n",
    "plt.show()"
   ]
  },
  {
   "cell_type": "code",
   "execution_count": 96,
   "id": "6866921f",
   "metadata": {},
   "outputs": [
    {
     "data": {
      "text/html": [
       "<div>\n",
       "<style scoped>\n",
       "    .dataframe tbody tr th:only-of-type {\n",
       "        vertical-align: middle;\n",
       "    }\n",
       "\n",
       "    .dataframe tbody tr th {\n",
       "        vertical-align: top;\n",
       "    }\n",
       "\n",
       "    .dataframe thead th {\n",
       "        text-align: right;\n",
       "    }\n",
       "</style>\n",
       "<table border=\"1\" class=\"dataframe\">\n",
       "  <thead>\n",
       "    <tr style=\"text-align: right;\">\n",
       "      <th></th>\n",
       "      <th>A</th>\n",
       "      <th>B</th>\n",
       "    </tr>\n",
       "  </thead>\n",
       "  <tbody>\n",
       "    <tr>\n",
       "      <th>12</th>\n",
       "      <td>757</td>\n",
       "      <td>101</td>\n",
       "    </tr>\n",
       "    <tr>\n",
       "      <th>6</th>\n",
       "      <td>589</td>\n",
       "      <td>90</td>\n",
       "    </tr>\n",
       "  </tbody>\n",
       "</table>\n",
       "</div>"
      ],
      "text/plain": [
       "      A    B\n",
       "12  757  101\n",
       "6   589   90"
      ]
     },
     "execution_count": 96,
     "metadata": {},
     "output_type": "execute_result"
    }
   ],
   "source": [
    "k=2  #Taking a random cluster value\n",
    "centroid=(x.sample(n=k))#will take two centroid values from each cluster\n",
    "centroid"
   ]
  },
  {
   "cell_type": "code",
   "execution_count": 97,
   "id": "e2ef90a5",
   "metadata": {},
   "outputs": [
    {
     "data": {
      "image/png": "[encoded data removed]",
      "text/plain": [
       "<Figure size 432x288 with 1 Axes>"
      ]
     },
     "metadata": {
      "needs_background": "light"
     },
     "output_type": "display_data"
    }
   ],
   "source": [
    "x=using[[\"A\",\"B\"]]\n",
    "plt.scatter(x[\"A\"],x[\"B\"])\n",
    "plt.scatter(centroid[\"A\"],centroid[\"B\"])\n",
    "#plt.xlabel(\"length\")\n",
    "#plt.ylabel(\"m\")\n",
    "plt.title(\"Data to be clustered\")\n",
    "plt.show()"
   ]
  },
  {
   "cell_type": "code",
   "execution_count": null,
   "id": "6777b1f8",
   "metadata": {},
   "outputs": [],
   "source": [
    "#Finding the Euclanian Distance\n",
    "difference=1\n",
    "d=0\n",
    "lv=0 #variable for a loop\n",
    "while(difference!=0):\n",
    "    Xdistance=x\n",
    "    i=1\n",
    "    for index1,row_c in centroid.iterrows():\n",
    "        e=[]\n",
    "        for index2,row_d in Xdistance.iterrows():\n",
    "                d1=(row_c[\"A\"]-row_d[\"B\"])**2\n",
    "                d2=(row_c[\"B\"]-row_d[\"B\"])**2\n",
    "                d=(d1+d2)\n",
    "                d=sqrt(d)\n",
    "                e.append(d)\n",
    "        x[i]=e\n",
    "        i=i+1\n",
    "#Grouping the data\n",
    "        c=[]\n",
    "        for index.row in x.iterrows():\n",
    "            min_dist=row[1]\n",
    "            pos=1\n",
    "            for i in range(k):\n",
    "                if row[i+1]<min_dist:\n",
    "                    min_dist=row[i+1]\n",
    "                    pos=i+1\n",
    "            c.append(pos)\n",
    "        x[\"cluster\"]=c\n",
    "        centroid_new=x.groupby([\"cluster\"]).mean()[[\"B\",\"A\"]]\n",
    "        if lv==0:\n",
    "            difference=1\n",
    "            lv=lv+1\n",
    "        else:\n",
    "            diff=centroid_new['B']-centroid_new['B'].sum()+(centroid_new['A']-centroid_new['a']).sum()\n",
    "        print(difference.sum())\n",
    "    centroid=x.groupby([\"cluster\"]).mean()[[\"B\",\"A\"]]\n",
    "#Display Data\n",
    "centroid\n",
    "for k in range (k):\n",
    "    data=x[x[\"cluster\"]==k+1]\n",
    "    plt.scatter(data[\"A\"],data[\"B\"])\n",
    "plt.scatter(centroid[\"A\"],centroid[\"B\"])\n",
    "#plt.xlabel(\"length\")\n",
    "#plt.ylabel(\"m\")\n",
    "plt.title(\"Data to be clustered\")\n",
    "plt.show()\n",
    "    "
   ]
  },
  {
   "cell_type": "code",
   "execution_count": null,
   "id": "a9d366c6",
   "metadata": {},
   "outputs": [],
   "source": []
  },
  {
   "cell_type": "code",
   "execution_count": null,
   "id": "2a761f8e",
   "metadata": {},
   "outputs": [],
   "source": []
  },
  {
   "cell_type": "code",
   "execution_count": null,
   "id": "09c01da5",
   "metadata": {},
   "outputs": [],
   "source": []
  },
  {
   "cell_type": "code",
   "execution_count": null,
   "id": "cedc3f92",
   "metadata": {},
   "outputs": [],
   "source": []
  }
 ],
 "metadata": {
  "kernelspec": {
   "display_name": "Python 3 (ipykernel)",
   "language": "python",
   "name": "python3"
  },
  "language_info": {
   "codemirror_mode": {
    "name": "ipython",
    "version": 3
   },
   "file_extension": ".py",
   "mimetype": "text/x-python",
   "name": "python",
   "nbconvert_exporter": "python",
   "pygments_lexer": "ipython3",
   "version": "3.9.7"
  }
 },
 "nbformat": 4,
 "nbformat_minor": 5
}
